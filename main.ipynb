{
  "nbformat": 4,
  "nbformat_minor": 0,
  "metadata": {
    "colab": {
      "provenance": []
    },
    "kernelspec": {
      "name": "python3",
      "display_name": "Python 3"
    },
    "language_info": {
      "name": "python"
    }
  },
  "cells": [
    {
      "cell_type": "code",
      "execution_count": 2,
      "metadata": {
        "colab": {
          "base_uri": "https://localhost:8080/"
        },
        "id": "ByVXqP-GPM3O",
        "outputId": "0396914b-abac-4fea-fa27-168d7c816333"
      },
      "outputs": [
        {
          "output_type": "stream",
          "name": "stdout",
          "text": [
            "                                    _id  \\\n",
            "0  {'$oid': '681d38fed63812d4655f571a'}   \n",
            "1  {'$oid': '681aa70dd6df53021cc6f3c0'}   \n",
            "2  {'$oid': '681d04c2d63812d4654c733e'}   \n",
            "3  {'$oid': '681d133bd63812d46551b6ef'}   \n",
            "4  {'$oid': '681899e4ba49fc91cf2f4454'}   \n",
            "\n",
            "                                   userWallet  network protocol  \\\n",
            "0  0x00000000001accfa9cef68cf5371a23025b6d4b6  polygon  aave_v2   \n",
            "1  0x000000000051d07a4fb3bd10121a343d85818da6  polygon  aave_v2   \n",
            "2  0x000000000096026fb41fc39f9875d164bd82e2dc  polygon  aave_v2   \n",
            "3  0x000000000096026fb41fc39f9875d164bd82e2dc  polygon  aave_v2   \n",
            "4  0x0000000000e189dd664b9ab08a33c4839953852c  polygon  aave_v2   \n",
            "\n",
            "                                              txHash  \\\n",
            "0  0x695c69acf608fbf5d38e48ca5535e118cc213a89e3d6...   \n",
            "1  0xe6fc162c86b2928b0ba9b82bda672763665152b9de9d...   \n",
            "2  0xe2d7eb815c89331a734ed6f204a06c385a1b39040baa...   \n",
            "3  0x0d63a2eacd82b82f868db825ea7385e6bd8d046ee729...   \n",
            "4  0x590eabb812c5006a6f4766f44e6e9d3ad0b5b563de69...   \n",
            "\n",
            "                                               logId   timestamp  blockNumber  \\\n",
            "0  0x695c69acf608fbf5d38e48ca5535e118cc213a89e3d6...  1629178166   1629178166   \n",
            "1  0xe6fc162c86b2928b0ba9b82bda672763665152b9de9d...  1621525013   1621525013   \n",
            "2  0xe2d7eb815c89331a734ed6f204a06c385a1b39040baa...  1627118913   1627118913   \n",
            "3  0x0d63a2eacd82b82f868db825ea7385e6bd8d046ee729...  1627773318   1627773318   \n",
            "4  0x590eabb812c5006a6f4766f44e6e9d3ad0b5b563de69...  1618845907   1618845907   \n",
            "\n",
            "             action                                         actionData  __v  \\\n",
            "0           deposit  {'type': 'Deposit', 'amount': '2000000000', 'a...    0   \n",
            "1           deposit  {'type': 'Deposit', 'amount': '145000000000000...    0   \n",
            "2           deposit  {'type': 'Deposit', 'amount': '100000000000000...    0   \n",
            "3           deposit  {'type': 'Deposit', 'amount': '400000000000000...    0   \n",
            "4  redeemunderlying  {'type': 'RedeemUnderlying', 'amount': '501548...    0   \n",
            "\n",
            "                               createdAt  \\\n",
            "0  {'$date': '2025-05-08T23:06:39.465Z'}   \n",
            "1  {'$date': '2025-05-07T00:19:26.159Z'}   \n",
            "2  {'$date': '2025-05-08T19:23:47.877Z'}   \n",
            "3  {'$date': '2025-05-08T20:25:33.141Z'}   \n",
            "4  {'$date': '2025-05-05T10:58:45.934Z'}   \n",
            "\n",
            "                               updatedAt  \n",
            "0  {'$date': '2025-05-08T23:06:39.465Z'}  \n",
            "1  {'$date': '2025-05-07T00:19:26.159Z'}  \n",
            "2  {'$date': '2025-05-08T19:23:47.877Z'}  \n",
            "3  {'$date': '2025-05-08T20:25:33.141Z'}  \n",
            "4  {'$date': '2025-05-05T10:58:45.934Z'}  \n"
          ]
        }
      ],
      "source": [
        "import json\n",
        "import pandas as pd\n",
        "with open(\"user-wallet-transactions.json\", \"r\") as file:\n",
        "    data = json.load(file)\n",
        "df = pd.DataFrame(data)\n",
        "print(df.head())\n"
      ]
    },
    {
      "cell_type": "code",
      "source": [
        "grouped = df.groupby(\"userWallet\")\n",
        "features = []\n",
        "for wallet, group in grouped:\n",
        "    deposit_count = (group['action'] == 'deposit').sum()\n",
        "    borrow_count = (group['action'] == 'borrow').sum()\n",
        "    repay_count = (group['action'] == 'repay').sum()\n",
        "    liquidation_count = (group['action'] == 'liquidationcall').sum()\n",
        "    redeem_count = (group['action'] == 'redeemunderlying').sum()\n",
        "\n",
        "    repay_ratio = repay_count / borrow_count if borrow_count > 0 else 0\n",
        "    risk_factor = liquidation_count / len(group)\n",
        "\n",
        "    features.append({\n",
        "        \"wallet\": wallet,\n",
        "        \"deposit_count\": deposit_count,\n",
        "        \"borrow_count\": borrow_count,\n",
        "        \"repay_count\": repay_count,\n",
        "        \"repay_ratio\": repay_ratio,\n",
        "        \"liquidation_count\": liquidation_count,\n",
        "        \"redeem_count\": redeem_count,\n",
        "        \"risk_factor\": risk_factor\n",
        "    })\n",
        "\n",
        "features_df = pd.DataFrame(features)\n"
      ],
      "metadata": {
        "id": "Z8bg0hsCQaYI"
      },
      "execution_count": 5,
      "outputs": []
    },
    {
      "cell_type": "code",
      "source": [
        "print(df.columns)"
      ],
      "metadata": {
        "colab": {
          "base_uri": "https://localhost:8080/"
        },
        "id": "JmrKMfygQk1k",
        "outputId": "71248eb1-6ee5-4f91-e9da-b912cda7fbcc"
      },
      "execution_count": 4,
      "outputs": [
        {
          "output_type": "stream",
          "name": "stdout",
          "text": [
            "Index(['_id', 'userWallet', 'network', 'protocol', 'txHash', 'logId',\n",
            "       'timestamp', 'blockNumber', 'action', 'actionData', '__v', 'createdAt',\n",
            "       'updatedAt'],\n",
            "      dtype='object')\n"
          ]
        }
      ]
    },
    {
      "cell_type": "markdown",
      "source": [
        "**Train a Model**"
      ],
      "metadata": {
        "id": "91yFThP0RbLY"
      }
    },
    {
      "cell_type": "code",
      "source": [
        "from sklearn.ensemble import RandomForestRegressor\n",
        "from sklearn.preprocessing import MinMaxScaler\n",
        "X = features_df.drop([\"wallet\"], axis=1)\n",
        "# Use a dummy target if needed\n",
        "dummy_target = (features_df[\"repay_ratio\"] * 1000) - (features_df[\"risk_factor\"] * 500)\n",
        "model = RandomForestRegressor()\n",
        "model.fit(X, dummy_target)\n",
        "# Generate raw scores\n",
        "raw_scores = model.predict(X)\n",
        "scaler = MinMaxScaler(feature_range=(0, 1000))\n",
        "scaled_scores = scaler.fit_transform(raw_scores.reshape(-1, 1)).flatten()\n",
        "features_df[\"score\"] = scaled_scores\n"
      ],
      "metadata": {
        "id": "9RjybRG-Q7Qd"
      },
      "execution_count": 6,
      "outputs": []
    },
    {
      "cell_type": "code",
      "source": [
        "output = features_df[[\"wallet\", \"score\"]]\n",
        "output_records = output.to_dict(orient=\"records\")\n",
        "import json\n",
        "with open(\"wallet_scores.json\", \"w\") as f:\n",
        "    json.dump(output_records, f, indent=2)\n"
      ],
      "metadata": {
        "id": "4nobW3Z2RiDR"
      },
      "execution_count": 9,
      "outputs": []
    },
    {
      "cell_type": "code",
      "source": [
        "import matplotlib.pyplot as plt\n",
        "\n",
        "plt.hist(features_df[\"score\"], bins=[0,100,200,300,400,500,600,700,800,900,1000], edgecolor='black')\n",
        "plt.title(\"Wallet Score Distribution\")\n",
        "plt.xlabel(\"Score Range\")\n",
        "plt.ylabel(\"Number of Wallets\")\n",
        "plt.grid(True)\n",
        "plt.show()\n"
      ],
      "metadata": {
        "colab": {
          "base_uri": "https://localhost:8080/",
          "height": 472
        },
        "id": "wltljyz9RuN4",
        "outputId": "c5ab6923-4117-40ce-a347-442f79c2946c"
      },
      "execution_count": 10,
      "outputs": [
        {
          "output_type": "display_data",
          "data": {
            "text/plain": [
              "<Figure size 640x480 with 1 Axes>"
            ],
            "image/png": "[encoded data removed]"
          },
          "metadata": {}
        }
      ]
    },
    {
      "cell_type": "code",
      "source": [],
      "metadata": {
        "id": "YpCgZfsZU7lp"
      },
      "execution_count": null,
      "outputs": []
    }
  ]
}